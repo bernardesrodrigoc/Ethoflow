{
 "cells": [
  {
   "cell_type": "markdown",
   "metadata": {},
   "source": [
    "# Train instance segmentation\n",
    "\n",
    "**Upload this file to Colab**\n",
    "\n",
    "**Requirements: dataset images and annotations file generate in Ethoflow heuristic or [VGG Image Annotator](http://www.robots.ox.ac.uk/~vgg/software/via/).**\n",
    "\n",
    "**Colab Runtime type: Python3, GPU enabled.**"
   ]
  },
  {
   "cell_type": "markdown",
   "metadata": {},
   "source": [
    "Notebook train a model for one class object detection. It is possible to slightly modify notebook to train model for multiple classes.\n",
    "\n",
    "Before running notebook, we need to create dataset:\n",
    "\n",
    "\n",
    "1.   Collect various pictures of objects to detect\n",
    "2.   Create annotation files in VGG\n",
    "3.   Create image.zip file having structure defined below\n",
    "4.   Upload the zip file in your Google Drive\n",
    "\n",
    "Zip file:\n",
    "```\n",
    "images.zip\n",
    "|- \"train\" directory\n",
    "  |- jpg image files of training data\n",
    "  |- \"via_region_data.json\" annotations file of training data\n",
    "|- \"val\" directory\n",
    "  |- jpg image files of validation data\n",
    "  |- \"via_region_data.json\" annotations file of validation data\n",
    "```\n"
   ]
  },
  {
   "cell_type": "markdown",
   "metadata": {},
   "source": [
    "# Install required packages, Download and extract dataset\n",
    "Update fileId variable with Google Drive id of your image.zip dataset"
   ]
  },
  {
   "cell_type": "code",
   "execution_count": null,
   "metadata": {},
   "outputs": [],
   "source": [
    "from google.colab import drive\n",
    "drive.mount('/content/drive/')\n",
    "\n",
    "%cd \"/content/drive/My Drive/Colab Notebooks/train_mask_rcnn/Mask_RCNN\"\n",
    "\n",
    "!pip install -q PyDrive\n",
    "!pip install -r requirements.txt\n",
    "!python setup.py install\n",
    "\n",
    "fileId = '1lDbT-99x_r_toauDlh3F_wd9S-8z9RTg'\n",
    "\n",
    "import os\n",
    "from zipfile import ZipFile\n",
    "from shutil import copy\n",
    "from pydrive.auth import GoogleAuth\n",
    "from pydrive.drive import GoogleDrive\n",
    "from google.colab import auth\n",
    "from oauth2client.client import GoogleCredentials\n",
    "\n",
    "if not os.path.exists('dataset'):\n",
    "    os.makedirs('dataset')\n",
    "os.chdir('dataset')\n",
    "\n",
    "auth.authenticate_user()\n",
    "gauth = GoogleAuth()\n",
    "gauth.credentials = GoogleCredentials.get_application_default()\n",
    "drive = GoogleDrive(gauth)\n",
    "\n",
    "fileName = fileId + '.zip'\n",
    "downloaded = drive.CreateFile({'id': fileId})\n",
    "downloaded.GetContentFile(fileName)\n",
    "ds = ZipFile(fileName)\n",
    "ds.extractall()\n",
    "os.remove(fileName)\n",
    "print('Extracted zip file ' + fileName)"
   ]
  },
  {
   "cell_type": "code",
   "execution_count": null,
   "metadata": {},
   "outputs": [],
   "source": [
    "#set epochs number\n",
    "\n",
    "%cd \"/content/drive/My Drive/Colab Notebooks/train_mask_rcnn/Mask_RCNN\"\n",
    "\n",
    "# !sed -i -- 's/epochs=30/epochs=10/g' bee.py -- search \"epochs\" in bee.py file"
   ]
  },
  {
   "cell_type": "code",
   "execution_count": null,
   "metadata": {},
   "outputs": [],
   "source": [
    "# Train model. Pretrained weights options are COCO and ImageNet dataset\n",
    "%tensorflow_version 1.x\n",
    "\n",
    "!python bee.py train --dataset=dataset/ --weights=coco"
   ]
  },
  {
   "cell_type": "markdown",
   "metadata": {},
   "source": [
    "Get the model saved in \"colab notebooks/logs\" and download to Ethoflow path in local machine \"./train_mask_rcnn/logs\""
   ]
  }
 ],
 "metadata": {
  "kernelspec": {
   "display_name": "ethoflow",
   "language": "python",
   "name": "ethoflow"
  },
  "language_info": {
   "codemirror_mode": {
    "name": "ipython",
    "version": 3
   },
   "file_extension": ".py",
   "mimetype": "text/x-python",
   "name": "python",
   "nbconvert_exporter": "python",
   "pygments_lexer": "ipython3",
   "version": "3.6.8"
  }
 },
 "nbformat": 4,
 "nbformat_minor": 4
}
